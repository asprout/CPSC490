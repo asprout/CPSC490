{
 "cells": [
  {
   "cell_type": "code",
   "execution_count": 2,
   "metadata": {},
   "outputs": [
    {
     "name": "stderr",
     "output_type": "stream",
     "text": [
      "/gpfs/milgram/apps/hpc.rhel7/software/Python/Anaconda3/lib/python3.6/site-packages/sklearn/cross_validation.py:41: DeprecationWarning: This module was deprecated in version 0.18 in favor of the model_selection module into which all the refactored classes and functions are moved. Also note that the interface of the new CV iterators are different from that of this module. This module will be removed in 0.20.\n",
      "  \"This module will be removed in 0.20.\", DeprecationWarning)\n",
      "/gpfs/milgram/apps/hpc.rhel7/software/Python/Anaconda3/lib/python3.6/site-packages/h5py/__init__.py:36: FutureWarning: Conversion of the second argument of issubdtype from `float` to `np.floating` is deprecated. In future, it will be treated as `np.float64 == np.dtype(float).type`.\n",
      "  from ._conv import register_converters as _register_converters\n"
     ]
    }
   ],
   "source": [
    "import numpy as np # scientific computing \n",
    "import scipy.io\n",
    "from scipy.stats import stats \n",
    "import pandas as pd # data manipulation \n",
    "from sklearn.cross_validation import LeaveOneLabelOut\n",
    "from sklearn.cross_validation import cross_val_score\n",
    "from sklearn.metrics import confusion_matrix\n",
    "from sklearn import linear_model\n",
    "from sklearn import svm \n",
    "import brainiak.funcalign.srm\n",
    "import brainiak.funcalign.rsrm\n",
    "from brainiak import image, io\n",
    "import matplotlib.pyplot as plt\n",
    "%matplotlib inline \n",
    "import time\n",
    "\n",
    "# useful variables\n",
    "nScenes = 50\n",
    "nScenes1 = 27\n",
    "nTRs1 = 946 \n",
    "nScenes2 = 23\n",
    "nTRs2 = 1030\n",
    "n = 17"
   ]
  },
  {
   "cell_type": "code",
   "execution_count": 3,
   "metadata": {},
   "outputs": [
    {
     "name": "stderr",
     "output_type": "stream",
     "text": [
      "/gpfs/milgram/apps/hpc.rhel7/software/Python/Anaconda3/lib/python3.6/site-packages/numpy/core/_methods.py:138: RuntimeWarning: invalid value encountered in sqrt\n",
      "  ret = um.sqrt(ret, out=ret)\n",
      "/gpfs/milgram/apps/hpc.rhel7/software/Python/Anaconda3/lib/python3.6/site-packages/scipy/stats/stats.py:2251: RuntimeWarning: divide by zero encountered in true_divide\n",
      "  np.expand_dims(sstd, axis=axis))\n",
      "/gpfs/milgram/apps/hpc.rhel7/software/Python/Anaconda3/lib/python3.6/site-packages/scipy/stats/stats.py:2251: RuntimeWarning: invalid value encountered in true_divide\n",
      "  np.expand_dims(sstd, axis=axis))\n"
     ]
    }
   ],
   "source": [
    "# for each participant (of 17), let's get the recall data for each of 50 scenes\n",
    "# recalled (1/0), quality (0 if not recalled, else 1-5, 5), recall time len\n",
    "recall_dfs = []\n",
    "recall_path = \"SherlockData/recall_transcripts/\"\n",
    "for pid in range(1, 18):\n",
    "    filename = \"NN_S\" + str(pid) + \"_Scene_Matches_edit4matlab.xlsx\"\n",
    "    file = pd.read_excel(recall_path + filename)\n",
    "    file = file.replace(np.nan, -1, regex=True)\n",
    "    quality = []\n",
    "    recalled = []\n",
    "    duration = []\n",
    "    for s in range(50):\n",
    "        if file['quality'][s] == -1: # did not recall\n",
    "            quality.append(0)\n",
    "            recalled.append(0)\n",
    "            duration.append(0)\n",
    "        else:\n",
    "            quality.append(file['quality'][s])\n",
    "            recalled.append(1)\n",
    "            duration.append(file['end time sec'][s] - file['start time sec'][s])\n",
    "    recall_dfs.append(np.transpose([recalled, quality, duration]))\n",
    "recall_dfs = np.array(recall_dfs)\n",
    "\n",
    "# Load in the brain data: 17 participants, 26k WB mask voxels, 1976 TRs\n",
    "movie_data = []\n",
    "for pid in range(1, 18):\n",
    "    moviedat = np.load(\"SherlockData/movie_masked/movie_wb_S\" + str(pid) + \".npz\")['data']\n",
    "    # stored as TR x voxel, but we want voxel x TR data \n",
    "    movie_data.append(np.transpose(moviedat))\n",
    "movie_data = np.array(movie_data)\n",
    "\n",
    "movieTRs = np.array(pd.read_csv(\"movieTRs.csv\", index_col = 0))\n",
    "\n",
    "# zscores a list of 2D arrays, by row\n",
    "def zscore(data):\n",
    "    for pid in range(len(data)):\n",
    "        data[pid] = np.nan_to_num(stats.zscore(data[pid], axis = 1, ddof = 1))\n",
    "    return np.array(data)\n",
    "\n",
    "movie_data1 = zscore(movie_data[:, :, :nTRs1])\n",
    "movie_data2 = zscore(movie_data[:, :, nTRs1:])\n",
    "\n",
    "# Loading in data describing movie features \n",
    "features = pd.read_csv(\"features.csv\", index_col = 0) \n",
    "\n",
    "# Given a feature name (string), returns nTRs-len vector of features\n",
    "def expandFeature(feat):\n",
    "    ret = []\n",
    "    curScene = 0\n",
    "    for i in range(movie_data.shape[2]): # for each TR \n",
    "        if (features.fillna(946)).loc[curScene, 'end_TR'] <= i:\n",
    "            curScene = curScene + 1\n",
    "        ret.append(features.loc[curScene, feat])\n",
    "    return np.array(ret)\n",
    "\n",
    "# Downsampling function:\n",
    "# given data matrix of 1 participant (features x TRs), start and end scenes\n",
    "# returns a features x SCENEs matrix, where \n",
    "# corresponding TRs in a scene are averaged \n",
    "# run2 = if the dat_tr is from the second run\n",
    "def scene_voxelavg(dat_tr, startind, endind = nScenes, run2 = True):\n",
    "    dat_sc = []\n",
    "    for sceneidx in range(startind, endind):\n",
    "        startTR = movieTRs[sceneidx, 1] - 1 \n",
    "        endTR = movieTRs[sceneidx, 2] - 1 \n",
    "        if run2:\n",
    "            startTR = startTR - nTRs1\n",
    "            endTR = endTR - nTRs1\n",
    "        response_avg = np.reshape(np.mean(dat_tr[:,startTR:endTR + 1], axis = 1), (-1, 1))\n",
    "        if len(dat_sc) == 0:\n",
    "            dat_sc = response_avg\n",
    "        else:\n",
    "            dat_sc = np.append(dat_sc, response_avg, axis = 1)\n",
    "    return np.array(dat_sc)\n",
    "\n",
    "# given a participant index and\n",
    "# recalltype (0 for nRecall, 1 for time of recall, 2 for quality of recall)\n",
    "# returns a nTRs-len vector representation for recall from start scene index\n",
    "def get_recall_labels(pidx, startind, recalltype, endind = nScenes):\n",
    "    labels_byTR = []\n",
    "    startTR = movieTRs[startind, 1] - 1 \n",
    "    for sceneidx in range(startind, endind):\n",
    "        endTR = movieTRs[sceneidx, 2] - 1 \n",
    "        labels_byTR = np.append(labels_byTR, \n",
    "            np.repeat(recall_dfs[pidx, sceneidx, recalltype], endTR-startTR+1))\n",
    "        startTR = endTR + 1\n",
    "    return labels_byTR\n",
    "\n",
    "# takes a list of l (v, t) brain data matrices and flattens them \n",
    "# such that they are concatenated by TR's, then transposes\n",
    "# new dimensions = t * l, v\n",
    "def flatdat(dat):\n",
    "    dat = zscore(dat) # in case not already done\n",
    "    flat = dat[0]\n",
    "    for i in range(1, len(dat)):\n",
    "        flat = np.append(flat, dat[i], axis = 1)\n",
    "    return np.array(flat.T)\n",
    "\n",
    "def flatlabs(labels):\n",
    "    flat = labels[0]\n",
    "    for i in range(1, len(labels)):\n",
    "        flat = np.append(flat, labels[i])\n",
    "    return np.array(flat)\n",
    "\n",
    "def predict(traindat, labels, testdat, classifier):\n",
    "    # Flatten the data and labels; fitting classifier \n",
    "    classifier.fit(flatdat(traindat), labels)\n",
    "    # Making predictions\n",
    "    return classifier.predict(flatdat(testdat))\n",
    "\n",
    "# Predicts the variable for one participant, training on the others \n",
    "# note: run is the half of the movie we are PREDICTING on \n",
    "def predictVarLOO(varvec, pid, run, classifier = svm.SVC()):\n",
    "    train_pids = [i for i in range(n) if i != pid]\n",
    "    test_pids = [pid]\n",
    "\n",
    "    # Learning subject specific bases \n",
    "    srm = brainiak.funcalign.srm.SRM(n_iter = 10, features = 50)\n",
    "    if run == 1:\n",
    "        srm_data = movie_data2\n",
    "        model_data = movie_data1\n",
    "    else:\n",
    "        srm_data = movie_data1\n",
    "        model_data = movie_data2\n",
    "    \n",
    "    srm.fit(srm_data[train_pids])\n",
    "    w_test = [srm.transform_subject(srm_data[i]) for i in test_pids]\n",
    "\n",
    "    test_data = []\n",
    "    for i in range(len(test_pids)):\n",
    "        test_data.append(np.matmul(w_test[i].T, model_data[test_pids[i]]))\n",
    "\n",
    "    train_data = zscore(srm.transform(model_data[train_pids]))\n",
    "    test_data = zscore(test_data)\n",
    "\n",
    "    train_size = len(train_pids)\n",
    "    trainlabels = np.array([varvec for i in range(train_size)]).flatten()\n",
    "    testlabels = np.array([varvec for i in range(n - train_size)]).flatten()\n",
    "\n",
    "    return np.reshape(np.array(predict(train_data, trainlabels, test_data, classifier)), (1, -1))\n",
    "\n",
    "def predictVarLOOCV(var, x, run = 2, classifier = svm.SVC()):\n",
    "    cvscores = []\n",
    "    if run == 1:\n",
    "        varvec = expandFeature(var)[:nTRs1]\n",
    "    else:\n",
    "        varvec = expandFeature(var)[nTRs1:]\n",
    "    for pid in range(n): # leave one participant out for the cv \n",
    "        predictVarLOO(varvec, x, pid, run, classifier)\n",
    "        cvscores.append([np.mean(preds == varvec), \n",
    "                         np.corrcoef(preds, varvec)])\n",
    "    return np.array(cvscores) # list of accuracy and correlation coefficients for each subject"
   ]
  },
  {
   "cell_type": "code",
   "execution_count": 4,
   "metadata": {},
   "outputs": [
    {
     "name": "stdout",
     "output_type": "stream",
     "text": [
      "text 0|1|% class 1:  963 37 0.037\n",
      "speech 0|1|% class 1:  302 698 0.698\n",
      "music 0|1|% class 1:  410 590 0.59\n",
      "outdoors 0|1|% class 1:  736 264 0.264\n",
      "new_scene 0|1|% class 1:  950 50 0.05\n",
      "char_infocus 0|1|% class 1:  51 949 0.949\n",
      "char_present 0|1|% class 1:  32 968 0.968\n",
      "mainchar_infocus 0|1|% class 1:  261 739 0.739\n",
      "mainchar_present 0|1|% class 1:  186 814 0.814\n",
      "mainchar_speaking 0|1|% class 1:  548 452 0.452\n"
     ]
    }
   ],
   "source": [
    "# Let's see the class imbalances:\n",
    "for feature in features.columns[6:]:\n",
    "    print(feature + \" 0|1|% class 1: \", sum(features[feature] == 0), \n",
    "          sum(features[feature] == 1), np.mean(features[feature]))"
   ]
  },
  {
   "cell_type": "code",
   "execution_count": 5,
   "metadata": {},
   "outputs": [],
   "source": [
    "# We see there is a notable imbalance in the following features:\n",
    "# text, outdoors, new_scene, [main]char_infocus, [main]char_present"
   ]
  },
  {
   "cell_type": "code",
   "execution_count": 6,
   "metadata": {
    "scrolled": true
   },
   "outputs": [
    {
     "data": {
      "text/plain": [
       "<matplotlib.legend.Legend at 0x2b606d012b38>"
      ]
     },
     "execution_count": 6,
     "metadata": {},
     "output_type": "execute_result"
    },
    {
     "data": {
      "image/png": "[encoded data removed]",
      "text/plain": [
       "<Figure size 432x288 with 2 Axes>"
      ]
     },
     "metadata": {},
     "output_type": "display_data"
    }
   ],
   "source": [
    "# text\n",
    "varvec = expandFeature(\"text\")[nTRs1:]\n",
    "preds_orig = predictVarLOO(varvec, 0, 2, classifier = svm.SVC())\n",
    "preds_balanced = predictVarLOO(varvec, 0, 2, classifier = svm.SVC(class_weight = \"balanced\"))\n",
    "\n",
    "plt.subplot(121)\n",
    "plt.scatter(range(nTRs2), varvec, alpha = 0.2)\n",
    "plt.scatter(range(nTRs2), preds_orig, alpha = 0.2)\n",
    "plt.legend([\"Y\", \"Yhat\"])\n",
    "plt.subplot(122)\n",
    "plt.scatter(range(nTRs2), varvec, alpha = 0.2)\n",
    "plt.scatter(range(nTRs2), preds_balanced, alpha = 0.2)\n",
    "plt.legend([\"Y\", \"Yhat\"])"
   ]
  },
  {
   "cell_type": "code",
   "execution_count": 47,
   "metadata": {},
   "outputs": [
    {
     "data": {
      "text/plain": [
       "(0.04660194174757282, 0.010679611650485437, 0.06407766990291262)"
      ]
     },
     "execution_count": 47,
     "metadata": {},
     "output_type": "execute_result"
    }
   ],
   "source": [
    "np.mean(varvec), np.mean(preds_orig), np.mean(preds_balanced)"
   ]
  },
  {
   "cell_type": "code",
   "execution_count": 46,
   "metadata": {},
   "outputs": [
    {
     "data": {
      "text/plain": [
       "(0.962135922330097, 0.9475728155339805)"
      ]
     },
     "execution_count": 46,
     "metadata": {},
     "output_type": "execute_result"
    }
   ],
   "source": [
    "np.mean(preds_orig == varvec), np.mean(preds_balanced == varvec)"
   ]
  },
  {
   "cell_type": "code",
   "execution_count": 55,
   "metadata": {},
   "outputs": [
    {
     "data": {
      "text/plain": [
       "(0.8203883495145631, 0.7766990291262136)"
      ]
     },
     "execution_count": 55,
     "metadata": {},
     "output_type": "execute_result"
    }
   ],
   "source": [
    "# Outdoors\n",
    "varvec = expandFeature(\"outdoors\")[nTRs1:]\n",
    "preds_orig = predictVarLOO(varvec, 0, 2, classifier = svm.SVC())\n",
    "preds_balanced = predictVarLOO(varvec, 0, 2, classifier = svm.SVC(class_weight = \"balanced\"))\n",
    "np.mean(preds_orig == varvec), np.mean(preds_balanced == varvec)"
   ]
  },
  {
   "cell_type": "code",
   "execution_count": 54,
   "metadata": {},
   "outputs": [
    {
     "data": {
      "text/plain": [
       "(0.9359223300970874, 0.9097087378640777)"
      ]
     },
     "execution_count": 54,
     "metadata": {},
     "output_type": "execute_result"
    }
   ],
   "source": [
    "# New Scene\n",
    "varvec = expandFeature(\"new_scene\")[nTRs1:]\n",
    "preds_orig = predictVarLOO(varvec, 0, 2, classifier = svm.SVC())\n",
    "preds_balanced = predictVarLOO(varvec, 0, 2, classifier = svm.SVC(class_weight = \"balanced\"))\n",
    "np.mean(varvec), np.mean(preds_orig), np.mean(preds_balanced)\n",
    "np.mean(preds_orig == varvec), np.mean(preds_balanced == varvec)"
   ]
  },
  {
   "cell_type": "code",
   "execution_count": 57,
   "metadata": {},
   "outputs": [],
   "source": [
    "# It turns out using balanced classes isn't helpful at all.. what if \n",
    "# We tried oversampling?\n",
    "varvec = expandFeature(\"outdoors\")[nTRs1:]\n",
    "n_models = round(1/np.mean(varvec))\n",
    "results = []\n",
    "for mod in range(n_modes):\n",
    "    "
   ]
  },
  {
   "cell_type": "code",
   "execution_count": 143,
   "metadata": {},
   "outputs": [],
   "source": [
    "pid = 1\n",
    "train_pids = [i for i in range(n) if i != pid]\n",
    "train_size = len(train_pids)\n",
    "\n",
    "test_pids = [pid]\n",
    "\n",
    "srm = brainiak.funcalign.srm.SRM(n_iter = 10, features = 50)\n",
    "srm.fit(movie_data1[train_pids])\n",
    "w_test = [srm.transform_subject(movie_data1[i]) for i in test_pids]\n",
    "\n",
    "test_data = []\n",
    "for i in range(len(test_pids)):\n",
    "    test_data.append(np.matmul(w_test[i].T, movie_data2[test_pids[i]]))\n",
    "\n",
    "train_data = zscore(srm.transform(movie_data2[train_pids]))\n",
    "test_data = zscore(test_data)"
   ]
  },
  {
   "cell_type": "code",
   "execution_count": 144,
   "metadata": {},
   "outputs": [],
   "source": [
    "varvec = expandFeature(\"outdoors\")[nTRs1:]\n",
    "trainlabels = np.array([varvec for i in range(train_size)]).flatten()\n",
    "nfakes = sum(trainlabels == 0) - sum(trainlabels == 1)\n",
    "fakeinds = np.random.choice(np.where(trainlabels == 1)[0], size = nfakes, replace = True)\n",
    "flat_train = flatdat(train_data)\n",
    "flat_train = np.append(flat_train, flat_train[fakeinds], axis = 0)\n",
    "flat_labels = np.append(trainlabels, np.repeat(1, nfakes))"
   ]
  },
  {
   "cell_type": "code",
   "execution_count": 145,
   "metadata": {},
   "outputs": [],
   "source": [
    "classifier = svm.SVC()\n",
    "classifier.fit(flat_train, flat_labels)\n",
    "os_preds = classifier.predict((flatdat(test_data)))"
   ]
  },
  {
   "cell_type": "code",
   "execution_count": 146,
   "metadata": {},
   "outputs": [],
   "source": [
    "# contrast this with the normal performance\n",
    "classifier2 = svm.SVC()\n",
    "classifier2.fit(flatdat(train_data), trainlabels)\n",
    "norm_preds = classifier2.predict((flatdat(test_data)))"
   ]
  },
  {
   "cell_type": "code",
   "execution_count": 147,
   "metadata": {},
   "outputs": [
    {
     "data": {
      "text/plain": [
       "(0.7592233009708738, 0.8067961165048544)"
      ]
     },
     "execution_count": 147,
     "metadata": {},
     "output_type": "execute_result"
    }
   ],
   "source": [
    "testlabels = np.array([varvec for i in range(n - train_size)]).flatten()\n",
    "np.mean(os_preds == testlabels), np.mean(norm_preds == testlabels)"
   ]
  },
  {
   "cell_type": "code",
   "execution_count": 148,
   "metadata": {},
   "outputs": [
    {
     "data": {
      "text/plain": [
       "array([[654,  86],\n",
       "       [162, 128]])"
      ]
     },
     "execution_count": 148,
     "metadata": {},
     "output_type": "execute_result"
    }
   ],
   "source": [
    "confusion_matrix(os_preds, testlabels)"
   ]
  },
  {
   "cell_type": "code",
   "execution_count": 149,
   "metadata": {},
   "outputs": [
    {
     "data": {
      "text/plain": [
       "array([[757, 140],\n",
       "       [ 59,  74]])"
      ]
     },
     "execution_count": 149,
     "metadata": {},
     "output_type": "execute_result"
    }
   ],
   "source": [
    "confusion_matrix(norm_preds, testlabels)"
   ]
  },
  {
   "cell_type": "code",
   "execution_count": 150,
   "metadata": {},
   "outputs": [
    {
     "data": {
      "text/plain": [
       "<matplotlib.collections.PathCollection at 0x2ac03c291240>"
      ]
     },
     "execution_count": 150,
     "metadata": {},
     "output_type": "execute_result"
    },
    {
     "data": {
      "image/png": "[encoded data removed]",
      "text/plain": [
       "<Figure size 432x288 with 2 Axes>"
      ]
     },
     "metadata": {},
     "output_type": "display_data"
    }
   ],
   "source": [
    "plt.subplot(211)\n",
    "plt.scatter(range(nTRs2), testlabels, alpha = 1)\n",
    "plt.scatter(range(nTRs2), os_preds, alpha = 0.1)\n",
    "plt.subplot(212)\n",
    "plt.scatter(range(nTRs2), testlabels, alpha = 1)\n",
    "plt.scatter(range(nTRs2), norm_preds, alpha = 0.1)"
   ]
  },
  {
   "cell_type": "code",
   "execution_count": 151,
   "metadata": {},
   "outputs": [
    {
     "data": {
      "text/plain": [
       "(0.9485436893203884, 0.9631067961165048)"
      ]
     },
     "execution_count": 151,
     "metadata": {},
     "output_type": "execute_result"
    }
   ],
   "source": [
    "# try again for text\n",
    "varvec = expandFeature(\"text\")[nTRs1:]\n",
    "trainlabels = np.array([varvec for i in range(train_size)]).flatten()\n",
    "\n",
    "nfakes = sum(trainlabels == 0) - sum(trainlabels == 1)\n",
    "fakeinds = np.random.choice(np.where(trainlabels == 1)[0], size = nfakes, replace = True)\n",
    "\n",
    "flat_train = flatdat(train_data)\n",
    "flat_train = np.append(flat_train, flat_train[fakeinds], axis = 0)\n",
    "flat_labels = np.append(trainlabels, np.repeat(1, nfakes))\n",
    "\n",
    "classifier = svm.SVC()\n",
    "classifier.fit(flat_train, flat_labels)\n",
    "os_preds = classifier.predict((flatdat(test_data)))\n",
    "# contrast this with the normal performance\n",
    "classifier2 = svm.SVC()\n",
    "classifier2.fit(flatdat(train_data), trainlabels)\n",
    "norm_preds = classifier2.predict((flatdat(test_data)))\n",
    "\n",
    "testlabels = np.array([varvec for i in range(n - train_size)]).flatten()\n",
    "np.mean(os_preds == testlabels), np.mean(norm_preds == testlabels)\n",
    "# Again, normal does better..."
   ]
  },
  {
   "cell_type": "code",
   "execution_count": 152,
   "metadata": {},
   "outputs": [
    {
     "data": {
      "text/plain": [
       "array([[946,  17],\n",
       "       [ 36,  31]])"
      ]
     },
     "execution_count": 152,
     "metadata": {},
     "output_type": "execute_result"
    },
    {
     "data": {
      "image/png": "[encoded data removed]",
      "text/plain": [
       "<Figure size 432x288 with 2 Axes>"
      ]
     },
     "metadata": {},
     "output_type": "display_data"
    }
   ],
   "source": [
    "plt.subplot(211)\n",
    "plt.scatter(range(nTRs2), testlabels, alpha = 1)\n",
    "plt.scatter(range(nTRs2), os_preds, alpha = 0.1)\n",
    "plt.subplot(212)\n",
    "plt.scatter(range(nTRs2), testlabels, alpha = 1)\n",
    "plt.scatter(range(nTRs2), norm_preds, alpha = 0.1)\n",
    "confusion_matrix(os_preds, testlabels)"
   ]
  },
  {
   "cell_type": "code",
   "execution_count": 153,
   "metadata": {},
   "outputs": [
    {
     "data": {
      "text/plain": [
       "0.933009708737864"
      ]
     },
     "execution_count": 153,
     "metadata": {},
     "output_type": "execute_result"
    }
   ],
   "source": [
    "# What if we combined under and oversampling?\n",
    "varvec = expandFeature(\"text\")[nTRs1:]\n",
    "trainlabels = np.array([varvec for i in range(train_size)]).flatten()\n",
    "\n",
    "nfakes = round(len(trainlabels)/2)\n",
    "\n",
    "fakeinds0 = np.random.choice(np.where(trainlabels == 0)[0], size = nfakes, replace = True)\n",
    "fakeinds1 = np.random.choice(np.where(trainlabels == 1)[0], size = nfakes, replace = True)\n",
    "\n",
    "flat_train = flatdat(train_data)\n",
    "flat_train = np.append(flat_train[fakeinds0], flat_train[fakeinds1], axis = 0)\n",
    "\n",
    "flat_labels = np.append(np.repeat(0, nfakes), np.repeat(1, nfakes))\n",
    "\n",
    "classifier = svm.SVC()\n",
    "classifier.fit(flat_train, flat_labels)\n",
    "os_preds = classifier.predict((flatdat(test_data)))\n",
    "\n",
    "np.mean(os_preds == testlabels)"
   ]
  },
  {
   "cell_type": "code",
   "execution_count": 154,
   "metadata": {},
   "outputs": [
    {
     "data": {
      "text/plain": [
       "<matplotlib.collections.PathCollection at 0x2ac03c3a9860>"
      ]
     },
     "execution_count": 154,
     "metadata": {},
     "output_type": "execute_result"
    },
    {
     "data": {
      "image/png": "[encoded data removed]",
      "text/plain": [
       "<Figure size 432x288 with 1 Axes>"
      ]
     },
     "metadata": {},
     "output_type": "display_data"
    }
   ],
   "source": [
    "plt.scatter(range(nTRs2), testlabels, alpha = 1)\n",
    "plt.scatter(range(nTRs2), os_preds, alpha = 0.1)"
   ]
  },
  {
   "cell_type": "code",
   "execution_count": 155,
   "metadata": {},
   "outputs": [
    {
     "data": {
      "text/plain": [
       "array([[926,  13],\n",
       "       [ 56,  35]])"
      ]
     },
     "execution_count": 155,
     "metadata": {},
     "output_type": "execute_result"
    }
   ],
   "source": [
    "confusion_matrix(os_preds, testlabels)"
   ]
  },
  {
   "cell_type": "code",
   "execution_count": 156,
   "metadata": {},
   "outputs": [
    {
     "data": {
      "text/plain": [
       "array([[974,  30],\n",
       "       [  8,  18]])"
      ]
     },
     "execution_count": 156,
     "metadata": {},
     "output_type": "execute_result"
    }
   ],
   "source": [
    "confusion_matrix(norm_preds, testlabels)"
   ]
  },
  {
   "cell_type": "code",
   "execution_count": null,
   "metadata": {},
   "outputs": [],
   "source": []
  }
 ],
 "metadata": {
  "kernelspec": {
   "display_name": "Python 3",
   "language": "python",
   "name": "python3"
  },
  "language_info": {
   "codemirror_mode": {
    "name": "ipython",
    "version": 3
   },
   "file_extension": ".py",
   "mimetype": "text/x-python",
   "name": "python",
   "nbconvert_exporter": "python",
   "pygments_lexer": "ipython3",
   "version": "3.6.7"
  }
 },
 "nbformat": 4,
 "nbformat_minor": 2
}
