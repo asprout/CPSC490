{
 "cells": [
  {
   "cell_type": "code",
   "execution_count": 1,
   "metadata": {},
   "outputs": [
    {
     "name": "stderr",
     "output_type": "stream",
     "text": [
      "/gpfs/milgram/apps/hpc.rhel7/software/Python/Anaconda3/lib/python3.6/site-packages/h5py/__init__.py:36: FutureWarning: Conversion of the second argument of issubdtype from `float` to `np.floating` is deprecated. In future, it will be treated as `np.float64 == np.dtype(float).type`.\n",
      "  from ._conv import register_converters as _register_converters\n"
     ]
    }
   ],
   "source": [
    "# Preparing inputs, variables, and data\n",
    "\n",
    "import numpy as np # scientific computing \n",
    "import scipy.io\n",
    "from scipy import stats\n",
    "from scipy.spatial.distance import pdist, squareform\n",
    "from scipy.sparse.linalg import eigs\n",
    "from sklearn import linear_model\n",
    "from sklearn import svm \n",
    "from sklearn.naive_bayes import GaussianNB\n",
    "import pandas as pd # data manipulation \n",
    "import brainiak.funcalign.srm\n",
    "import brainiak.funcalign.rsrm\n",
    "from brainiak import image, io\n",
    "import matplotlib.pyplot as plt\n",
    "from mpl_toolkits.mplot3d import Axes3D \n",
    "%matplotlib inline \n",
    "import time\n",
    "\n",
    "# descriptive variables for the dataset \n",
    "# the data consists of 1976 total TRs (time repetitions, i.e. when a single image was taken) for 17 participants\n",
    "# taken in 2 separate (but concatenated) runs. \n",
    "# experimenters further identified 50 different scenes within this time period, and labelled whether or not\n",
    "# participants recalled those scenes during a later recall task \n",
    "nScenes = 50\n",
    "nScenes1 = 27\n",
    "nTRs1 = 946 \n",
    "nScenes2 = 23\n",
    "nTRs2 = 1030\n",
    "n = 17\n",
    "\n",
    "# for each participant (of 17), let's get the recall data for each of 50 scenes \n",
    "# 3 variables (columns): recalled (1/0), quality (0-5), recall time len (0+)\n",
    "recall_dfs = []\n",
    "recall_path = \"SherlockData/recall_transcripts/\"\n",
    "for pid in range(1, 18):\n",
    "    filename = \"NN_S\" + str(pid) + \"_Scene_Matches_edit4matlab.xlsx\"\n",
    "    file = pd.read_excel(recall_path + filename)\n",
    "    file = file.replace(np.nan, -1, regex=True)\n",
    "    quality = []\n",
    "    recalled = []\n",
    "    duration = []\n",
    "    for s in range(50):\n",
    "        if file['quality'][s] == -1: # did not recall\n",
    "            quality.append(0)\n",
    "            recalled.append(0)\n",
    "            duration.append(0)\n",
    "        else:\n",
    "            quality.append(file['quality'][s])\n",
    "            recalled.append(1)\n",
    "            duration.append(file['end time sec'][s] - file['start time sec'][s])\n",
    "    recall_dfs.append(np.transpose([recalled, quality, duration]))\n",
    "    \n",
    "recall_dfs = np.array(recall_dfs)\n",
    "\n",
    "# Brain data: 17 participants, 26k WB mask voxels, 1976 TRs (time-of-repetition, i.e. one time point/1.5s in this case)\n",
    "movie_data = []\n",
    "for pid in range(1, 18):\n",
    "    moviedat = np.load(\"SherlockData/movie_masked/movie_wb_S\" + str(pid) + \".npz\")['data']\n",
    "    # stored as TR x voxel, but we want voxel x TR data \n",
    "    movie_data.append(np.transpose(moviedat))\n",
    "    \n",
    "movie_data = np.array(movie_data)"
   ]
  },
  {
   "cell_type": "code",
   "execution_count": 12,
   "metadata": {},
   "outputs": [
    {
     "name": "stderr",
     "output_type": "stream",
     "text": [
      "/gpfs/milgram/apps/hpc.rhel7/software/Python/Anaconda3/lib/python3.6/site-packages/numpy/core/_methods.py:138: RuntimeWarning: invalid value encountered in sqrt\n",
      "  ret = um.sqrt(ret, out=ret)\n",
      "/gpfs/milgram/apps/hpc.rhel7/software/Python/Anaconda3/lib/python3.6/site-packages/scipy/stats/stats.py:2251: RuntimeWarning: divide by zero encountered in true_divide\n",
      "  np.expand_dims(sstd, axis=axis))\n",
      "/gpfs/milgram/apps/hpc.rhel7/software/Python/Anaconda3/lib/python3.6/site-packages/scipy/stats/stats.py:2251: RuntimeWarning: invalid value encountered in true_divide\n",
      "  np.expand_dims(sstd, axis=axis))\n"
     ]
    }
   ],
   "source": [
    "# zscores each of list of 2D arrays, by row\n",
    "# For each participant, we want to compare how the voxel activations change over time, \n",
    "# rather than the absolute voxel activations \n",
    "def zscore(data):\n",
    "    for pid in range(len(data)):\n",
    "        data[pid] = np.nan_to_num(stats.zscore(data[pid], axis = 1, ddof = 1))\n",
    "    return np.array(data)\n",
    "\n",
    "# Downsampling function (features x TRs -> features x SCENES)\n",
    "# given data matrix of 1 participant (features x TRs)\n",
    "# returns a features x SCENEs matrix, where \n",
    "# corresponding TRs in a scene are averaged \n",
    "# if r2 is True, then movie data corresponds to only the second run\n",
    "movieTRs = np.array(pd.read_csv(\"movieTRs.csv\", index_col = 0))\n",
    "def scene_voxelavg(dat_tr, startind = 0, endind = nScenes, r2 = False):\n",
    "    dat_sc = []\n",
    "    for sceneidx in range(startind, endind):\n",
    "        offset = 1\n",
    "        if r2:\n",
    "            offset = offset + nTRs1\n",
    "        startTR = movieTRs[sceneidx, 1] - offset\n",
    "        endTR = movieTRs[sceneidx, 2] - offset\n",
    "        response_avg = np.reshape(np.mean(dat_tr[:,startTR:endTR + 1], axis = 1), (-1, 1))\n",
    "        if len(dat_sc) == 0:\n",
    "            dat_sc = response_avg\n",
    "        else:\n",
    "            dat_sc = np.append(dat_sc, response_avg, axis = 1)\n",
    "    return np.array(dat_sc)\n",
    "\n",
    "# given a participant index and\n",
    "# recalltype (0 for nRecall, 1 for time of recall, 2 for quality of recall)\n",
    "# returns a nTRs-len vector representation for recall from start scene index\n",
    "# i.e. expands a recall outcome vector from length SCENES to TRs\n",
    "# note that this is a very imprecise way of identifying recall, as it is possible that \n",
    "# participants recalled only parts of the scene and not others\n",
    "def get_recall_labels(pidx, recalltype, startind = 0, endind = nScenes):\n",
    "    labels_byTR = []\n",
    "    startTR = movieTRs[startind, 1] - 1 \n",
    "    for sceneidx in range(startind, endind):\n",
    "        endTR = movieTRs[sceneidx, 2] - 1 \n",
    "        labels_byTR = np.append(labels_byTR, \n",
    "            np.repeat(recall_dfs[pidx, sceneidx, recalltype], endTR-startTR+1))\n",
    "        startTR = endTR + 1\n",
    "    return labels_byTR\n",
    "\n",
    "# takes a (pid x features x time) matrix set and concatenates all pids by feature, and transposes it\n",
    "# such that each row corresponds to a single time observation\n",
    "def flatdat(dat):\n",
    "    flat = dat[0]\n",
    "    for i in range(1, len(dat)):\n",
    "        flat = np.append(flat, dat[i], axis = 1)\n",
    "    return np.array(flat.T)\n",
    "\n",
    "movie_data1 = zscore(movie_data[:, :, :nTRs1])\n",
    "movie_data2 = zscore(movie_data[:, :, nTRs1:])"
   ]
  },
  {
   "cell_type": "code",
   "execution_count": 3,
   "metadata": {},
   "outputs": [],
   "source": [
    "### 1. In shared space (shared_data: 17 x 50 x 1976, downsampled into 17 x 50 x 50)\n",
    "#### note: we'll also record results using individual data (i.e. the individual \"noise\" that is not shared), \n",
    "#### as well as null predictions (what would be predicted with scrambled labels) to see how well our model\n",
    "#### does, comparatively. To learn \"individual data\", instead of learning X_i = W_i * R , where R is the shared \n",
    "#### signal and W_i are the individual subject basis that help map from voxel to feature space, we will use\n",
    "#### the RSRM (robust shared response model) to learn X_i = W_i * R + S_i for individual S_i signals"
   ]
  },
  {
   "cell_type": "code",
   "execution_count": 15,
   "metadata": {},
   "outputs": [],
   "source": [
    "# We can test how well we can predict recall using LOOCV, leaving out one participant at a time and training on the rest \n",
    "# divide the data into data to fit the SRM, and data to train the classifier \n",
    "# to avoid \"peeking\" problems\n",
    "\n",
    "# Predicts the variable for one participant, training on the others \n",
    "def predictRecallLOO(pid, predict_run = 2):\n",
    "    # separate participants into training and testing \n",
    "    train_pids = [i for i in range(n) if i != pid]\n",
    "    test_pids = [pid]\n",
    "\n",
    "    # Learning subject specific bases in shared space using half the movie data  \n",
    "    if predict_run == 2:\n",
    "        data_SRM = movie_data1 \n",
    "        data_classify = movie_data2\n",
    "        startscene = nScenes1\n",
    "        endscene = nScenes\n",
    "    else:\n",
    "        data_SRM = movie_data2\n",
    "        data_classify = movie_data1\n",
    "        startscene = 0\n",
    "        endscene = nScenes1\n",
    "    \n",
    "    srm = brainiak.funcalign.rsrm.RSRM(n_iter = 10, features = 50)\n",
    "    srm.fit(data_SRM[train_pids])\n",
    "    \n",
    "    w_test = [srm.transform_subject(data_SRM[i])[0] for i in test_pids]\n",
    "\n",
    "    # Get shared and individual data in the other half of the movie\n",
    "    train_shared, train_ind = srm.transform(data_classify[train_pids])\n",
    "    \n",
    "    # shared response matrix (k x TR) in second half = Wi.T(Xi - Si)\n",
    "    shared = np.matmul(srm.w_[0].T, data_classify[train_pids[0]] - train_ind[0])\n",
    "    \n",
    "    test_shared = []\n",
    "    test_ind = []\n",
    "    for i in range(len(test_pids)):\n",
    "        test_ind.append(data_classify[test_pids[i]] - np.matmul(w_test[i], shared))\n",
    "        test_shared.append(np.matmul(w_test[i].T, data_classify[test_pids[i]] - test_ind[i]))\n",
    "    test_shared = np.array(test_shared)\n",
    "    test_ind = np.array(test_ind)\n",
    "        \n",
    "    if predict_run == 2:\n",
    "        train_data_s = [scene_voxelavg(train_shared[i], nScenes1, nScenes, r2 = True) for i in range(len(train_pids))]\n",
    "        test_data_s = [scene_voxelavg(test_shared[i], startind = nScenes1, endind = nScenes, r2 = True) for i in range(len(test_pids))]\n",
    "        train_data_ind = [scene_voxelavg(train_ind[i], nScenes1, nScenes, r2 = True) for i in range(len(train_pids))]\n",
    "        test_data_ind = [scene_voxelavg(test_ind[i], startind = nScenes1, endind = nScenes, r2 = True) for i in range(len(test_pids))]\n",
    "        ytrain = np.ravel(recall_dfs[train_pids, nScenes1:, 0])\n",
    "        ytest = np.ravel(recall_dfs[test_pids, nScenes1:, 0])\n",
    "    else:\n",
    "        train_data_s = [scene_voxelavg(train_shared[i], 0, nScenes1) for i in range(len(train_pids))]\n",
    "        test_data_s = [scene_voxelavg(test_shared[i], startind = 0, endind = nScenes1) for i in range(len(test_pids))]\n",
    "        train_data_ind = [scene_voxelavg(train_ind[i], 0, nScenes1) for i in range(len(train_pids))]\n",
    "        test_data_ind = [scene_voxelavg(test_ind[i], startind = 0, endind = nScenes1) for i in range(len(test_pids))]                                                                                                            \n",
    "        ytrain = np.ravel(recall_dfs[train_pids, :nScenes1, 0])\n",
    "        ytest = np.ravel(recall_dfs[test_pids, :nScenes1, 0])\n",
    "    \n",
    "    classifier_s = GaussianNB()                                                                                                  \n",
    "    classifier_s.fit(flatdat(train_data_s), ytrain)\n",
    "    preds_s = classifier_s.predict(flatdat(test_data_s))\n",
    "                                                                                                      \n",
    "    classifier_ind = GaussianNB()                                                                                                  \n",
    "    classifier_ind.fit(flatdat(train_data_ind), ytrain)\n",
    "    preds_ind = classifier_ind.predict(flatdat(test_data_ind))                                                                                                \n",
    "    \n",
    "    return preds_s, preds_ind, ytest\n",
    "\n",
    "def predictRecallLOOCV(recalltype = 0, predict_run = 2):\n",
    "    sharedscores = []\n",
    "    indscores = []\n",
    "    for pid in range(n): # leave one participant out for the cv \n",
    "        preds_s, preds_ind, y = predictRecallLOO(pid, predict_run)\n",
    "        results_s = np.mean(preds_s == y)\n",
    "        results_ind = np.mean(preds_ind == y)\n",
    "                                                                                                      \n",
    "        print(pid, results_s, results_ind)\n",
    "        sharedscores.append(results_s)\n",
    "        indscores.append(results_ind)\n",
    "    return sharedscores, indscores # list of accuracy for each subject"
   ]
  },
  {
   "cell_type": "code",
   "execution_count": 16,
   "metadata": {},
   "outputs": [],
   "source": [
    "s0, ind0, y0 = predictRecallLOO(0)"
   ]
  },
  {
   "cell_type": "code",
   "execution_count": 17,
   "metadata": {},
   "outputs": [
    {
     "data": {
      "text/plain": [
       "(0.782608695652174, 0.7391304347826086)"
      ]
     },
     "execution_count": 17,
     "metadata": {},
     "output_type": "execute_result"
    }
   ],
   "source": [
    "np.mean(s0 == y0), np.mean(ind0 == y0)"
   ]
  },
  {
   "cell_type": "code",
   "execution_count": 22,
   "metadata": {},
   "outputs": [
    {
     "data": {
      "text/plain": [
       "Text(0.5, 1.0, 'Recall predictions for Run2')"
      ]
     },
     "execution_count": 22,
     "metadata": {},
     "output_type": "execute_result"
    },
    {
     "data": {
      "image/png": "[encoded data removed]",
      "text/plain": [
       "<Figure size 432x288 with 1 Axes>"
      ]
     },
     "metadata": {},
     "output_type": "display_data"
    }
   ],
   "source": [
    "plt.plot(y0)\n",
    "plt.plot(s0)\n",
    "plt.plot(ind0)\n",
    "plt.legend([\"Y\", \"Shared Pred\", \"Ind. Pred\"])\n",
    "plt.title(\"Recall predictions for Run2\")"
   ]
  },
  {
   "cell_type": "code",
   "execution_count": 23,
   "metadata": {},
   "outputs": [
    {
     "name": "stdout",
     "output_type": "stream",
     "text": [
      "PID 0 finished in 712.608250 time\n",
      "PID 1 finished in 703.985678 time\n",
      "PID 2 finished in 892.854236 time\n",
      "PID 3 finished in 704.230291 time\n",
      "PID 4 finished in 781.539669 time\n",
      "PID 5 finished in 971.479416 time\n",
      "PID 6 finished in 714.842790 time\n",
      "PID 7 finished in 803.374257 time\n",
      "PID 8 finished in 926.441160 time\n",
      "PID 9 finished in 882.284433 time\n",
      "PID 10 finished in 741.372320 time\n",
      "PID 11 finished in 701.762052 time\n",
      "PID 12 finished in 698.815982 time\n",
      "PID 13 finished in 701.386087 time\n",
      "PID 14 finished in 700.867101 time\n",
      "PID 15 finished in 700.240835 time\n",
      "PID 16 finished in 701.293157 time\n"
     ]
    }
   ],
   "source": [
    "results_shared = []\n",
    "results_ind = []\n",
    "results = []\n",
    "for pid in range(n):\n",
    "    start = time.time()\n",
    "    spred, indpred, y = predictRecallLOO(pid)\n",
    "    results.append([spred, indpred, y])\n",
    "    results_shared.append(np.mean(spred == y))\n",
    "    results_ind.append(np.mean(indpred == y))\n",
    "    print(\"PID %d finished in %f time\" % (pid, time.time() - start))"
   ]
  },
  {
   "cell_type": "code",
   "execution_count": 24,
   "metadata": {},
   "outputs": [
    {
     "data": {
      "text/plain": [
       "([0.782608695652174,\n",
       "  0.5217391304347826,\n",
       "  0.5652173913043478,\n",
       "  0.5652173913043478,\n",
       "  0.5652173913043478,\n",
       "  0.782608695652174,\n",
       "  0.6521739130434783,\n",
       "  0.6086956521739131,\n",
       "  0.6086956521739131,\n",
       "  0.6521739130434783,\n",
       "  0.6521739130434783,\n",
       "  0.6086956521739131,\n",
       "  0.7391304347826086,\n",
       "  0.7391304347826086,\n",
       "  0.6521739130434783,\n",
       "  0.5217391304347826,\n",
       "  0.782608695652174],\n",
       " [0.7391304347826086,\n",
       "  0.6086956521739131,\n",
       "  0.8260869565217391,\n",
       "  0.6086956521739131,\n",
       "  0.782608695652174,\n",
       "  0.7391304347826086,\n",
       "  0.5652173913043478,\n",
       "  0.6521739130434783,\n",
       "  0.6521739130434783,\n",
       "  0.6086956521739131,\n",
       "  0.6521739130434783,\n",
       "  0.5217391304347826,\n",
       "  0.7391304347826086,\n",
       "  0.34782608695652173,\n",
       "  0.7391304347826086,\n",
       "  0.6956521739130435,\n",
       "  0.782608695652174],\n",
       " Ttest_relResult(statistic=-0.43643578047198467, pvalue=0.6683526387131726))"
      ]
     },
     "execution_count": 24,
     "metadata": {},
     "output_type": "execute_result"
    }
   ],
   "source": [
    "results_shared, results_ind, stats.ttest_rel(results_shared, results_ind)"
   ]
  },
  {
   "cell_type": "code",
   "execution_count": 32,
   "metadata": {},
   "outputs": [
    {
     "data": {
      "text/plain": [
       "Text(0.5, 1.0, 'Accuracy of Recall Predictions \\n using shared vs. individual signals (p = 0.67)')"
      ]
     },
     "execution_count": 32,
     "metadata": {},
     "output_type": "execute_result"
    },
    {
     "data": {
      "image/png": "[encoded data removed]",
      "text/plain": [
       "<Figure size 432x288 with 1 Axes>"
      ]
     },
     "metadata": {},
     "output_type": "display_data"
    }
   ],
   "source": [
    "plt.bar(range(n), results_shared, alpha = 0.8)\n",
    "plt.bar(range(n), results_ind, alpha = 0.6)\n",
    "plt.legend([\"Shared\", \"Individual\"])\n",
    "plt.title(\"Accuracy of Recall Predictions \\n using shared vs. individual signals (p = 0.67)\")"
   ]
  },
  {
   "cell_type": "code",
   "execution_count": null,
   "metadata": {},
   "outputs": [],
   "source": []
  }
 ],
 "metadata": {
  "kernelspec": {
   "display_name": "Python 3",
   "language": "python",
   "name": "python3"
  },
  "language_info": {
   "codemirror_mode": {
    "name": "ipython",
    "version": 3
   },
   "file_extension": ".py",
   "mimetype": "text/x-python",
   "name": "python",
   "nbconvert_exporter": "python",
   "pygments_lexer": "ipython3",
   "version": "3.6.7"
  }
 },
 "nbformat": 4,
 "nbformat_minor": 2
}
