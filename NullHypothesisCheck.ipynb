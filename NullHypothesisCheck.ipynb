{
 "cells": [
  {
   "cell_type": "code",
   "execution_count": 1,
   "metadata": {},
   "outputs": [
    {
     "name": "stderr",
     "output_type": "stream",
     "text": [
      "/gpfs/milgram/apps/hpc.rhel7/software/Python/Anaconda3/lib/python3.6/site-packages/sklearn/cross_validation.py:41: DeprecationWarning: This module was deprecated in version 0.18 in favor of the model_selection module into which all the refactored classes and functions are moved. Also note that the interface of the new CV iterators are different from that of this module. This module will be removed in 0.20.\n",
      "  \"This module will be removed in 0.20.\", DeprecationWarning)\n",
      "/gpfs/milgram/apps/hpc.rhel7/software/Python/Anaconda3/lib/python3.6/site-packages/h5py/__init__.py:36: FutureWarning: Conversion of the second argument of issubdtype from `float` to `np.floating` is deprecated. In future, it will be treated as `np.float64 == np.dtype(float).type`.\n",
      "  from ._conv import register_converters as _register_converters\n"
     ]
    }
   ],
   "source": [
    "#final version\n",
    "import numpy as np # scientific computing \n",
    "import scipy.io\n",
    "from scipy import stats \n",
    "import pandas as pd # data manipulation \n",
    "from sklearn.cross_validation import LeaveOneLabelOut\n",
    "from sklearn.cross_validation import cross_val_score\n",
    "from sklearn.metrics import confusion_matrix\n",
    "from sklearn import linear_model\n",
    "from sklearn import svm \n",
    "import brainiak.funcalign.srm\n",
    "import brainiak.funcalign.rsrm\n",
    "from brainiak import image, io\n",
    "import matplotlib.pyplot as plt\n",
    "%matplotlib inline \n",
    "import time\n",
    "\n",
    "# useful variables\n",
    "nScenes = 50\n",
    "nScenes1 = 27\n",
    "nTRs1 = 946 \n",
    "nScenes2 = 23\n",
    "nTRs2 = 1030\n",
    "n = 17"
   ]
  },
  {
   "cell_type": "code",
   "execution_count": 2,
   "metadata": {},
   "outputs": [
    {
     "name": "stderr",
     "output_type": "stream",
     "text": [
      "/gpfs/milgram/apps/hpc.rhel7/software/Python/Anaconda3/lib/python3.6/site-packages/numpy/core/_methods.py:138: RuntimeWarning: invalid value encountered in sqrt\n",
      "  ret = um.sqrt(ret, out=ret)\n",
      "/gpfs/milgram/apps/hpc.rhel7/software/Python/Anaconda3/lib/python3.6/site-packages/scipy/stats/stats.py:2251: RuntimeWarning: divide by zero encountered in true_divide\n",
      "  np.expand_dims(sstd, axis=axis))\n",
      "/gpfs/milgram/apps/hpc.rhel7/software/Python/Anaconda3/lib/python3.6/site-packages/scipy/stats/stats.py:2251: RuntimeWarning: invalid value encountered in true_divide\n",
      "  np.expand_dims(sstd, axis=axis))\n"
     ]
    }
   ],
   "source": [
    "# for each participant (of 17), let's get the recall data for each of 50 scenes\n",
    "# recalled (1/0), quality (0 if not recalled, else 1-5, 5), recall time len\n",
    "recall_dfs = []\n",
    "recall_path = \"SherlockData/recall_transcripts/\"\n",
    "for pid in range(1, 18):\n",
    "    filename = \"NN_S\" + str(pid) + \"_Scene_Matches_edit4matlab.xlsx\"\n",
    "    file = pd.read_excel(recall_path + filename)\n",
    "    file = file.replace(np.nan, -1, regex=True)\n",
    "    quality = []\n",
    "    recalled = []\n",
    "    duration = []\n",
    "    for s in range(50):\n",
    "        if file['quality'][s] == -1: # did not recall\n",
    "            quality.append(0)\n",
    "            recalled.append(0)\n",
    "            duration.append(0)\n",
    "        else:\n",
    "            quality.append(file['quality'][s])\n",
    "            recalled.append(1)\n",
    "            duration.append(file['end time sec'][s] - file['start time sec'][s])\n",
    "    recall_dfs.append(np.transpose([recalled, quality, duration]))\n",
    "recall_dfs = np.array(recall_dfs)\n",
    "\n",
    "# Load in the brain data: 17 participants, 26k WB mask voxels, 1976 TRs\n",
    "movie_data = []\n",
    "for pid in range(1, 18):\n",
    "    moviedat = np.load(\"SherlockData/movie_masked/movie_wb_S\" + str(pid) + \".npz\")['data']\n",
    "    # stored as TR x voxel, but we want voxel x TR data \n",
    "    movie_data.append(np.transpose(moviedat))\n",
    "movie_data = np.array(movie_data)\n",
    "\n",
    "movieTRs = np.array(pd.read_csv(\"movieTRs.csv\", index_col = 0))\n",
    "\n",
    "# zscores a list of 2D arrays, by row\n",
    "def zscore(data):\n",
    "    for pid in range(len(data)):\n",
    "        data[pid] = np.nan_to_num(stats.zscore(data[pid], axis = 1, ddof = 1))\n",
    "    return np.array(data)\n",
    "\n",
    "movie_data1 = zscore(movie_data[:, :, :nTRs1])\n",
    "movie_data2 = zscore(movie_data[:, :, nTRs1:])\n",
    "\n",
    "# Loading in data describing movie features \n",
    "features = pd.read_csv(\"features.csv\", index_col = 0) \n",
    "\n",
    "# Given a feature name (string), returns nTRs-len vector of features\n",
    "def expandFeature(feat):\n",
    "    ret = []\n",
    "    curScene = 0\n",
    "    for i in range(movie_data.shape[2]): # for each TR \n",
    "        if (features.fillna(946)).loc[curScene, 'end_TR'] <= i:\n",
    "            curScene = curScene + 1\n",
    "        ret.append(features.loc[curScene, feat])\n",
    "    return np.array(ret)\n",
    "\n",
    "# Downsampling function:\n",
    "# given data matrix of 1 participant (features x TRs), start and end scenes\n",
    "# returns a features x SCENEs matrix, where \n",
    "# corresponding TRs in a scene are averaged \n",
    "# run2 = if the dat_tr is from the second run\n",
    "def scene_voxelavg(dat_tr, startind, endind = nScenes, run2 = True):\n",
    "    dat_sc = []\n",
    "    for sceneidx in range(startind, endind):\n",
    "        startTR = movieTRs[sceneidx, 1] - 1 \n",
    "        endTR = movieTRs[sceneidx, 2] - 1 \n",
    "        if run2:\n",
    "            startTR = startTR - nTRs1\n",
    "            endTR = endTR - nTRs1\n",
    "        response_avg = np.reshape(np.mean(dat_tr[:,startTR:endTR + 1], axis = 1), (-1, 1))\n",
    "        if len(dat_sc) == 0:\n",
    "            dat_sc = response_avg\n",
    "        else:\n",
    "            dat_sc = np.append(dat_sc, response_avg, axis = 1)\n",
    "    return np.array(dat_sc)\n",
    "\n",
    "# given a participant index and\n",
    "# recalltype (0 for nRecall, 1 for time of recall, 2 for quality of recall)\n",
    "# returns a nTRs-len vector representation for recall from start scene index\n",
    "def get_recall_labels(pidx, startind, recalltype, endind = nScenes):\n",
    "    labels_byTR = []\n",
    "    startTR = movieTRs[startind, 1] - 1 \n",
    "    for sceneidx in range(startind, endind):\n",
    "        endTR = movieTRs[sceneidx, 2] - 1 \n",
    "        labels_byTR = np.append(labels_byTR, \n",
    "            np.repeat(recall_dfs[pidx, sceneidx, recalltype], endTR-startTR+1))\n",
    "        startTR = endTR + 1\n",
    "    return labels_byTR\n",
    "\n",
    "# takes a list of l (v, t) brain data matrices and flattens them \n",
    "# such that they are concatenated by TR's, then transposes\n",
    "# new dimensions = t * l, v\n",
    "def flatdat(dat):\n",
    "    dat = zscore(dat) # in case not already done\n",
    "    flat = dat[0]\n",
    "    for i in range(1, len(dat)):\n",
    "        flat = np.append(flat, dat[i], axis = 1)\n",
    "    return np.array(flat.T)\n",
    "\n",
    "def flatlabs(labels):\n",
    "    flat = labels[0]\n",
    "    for i in range(1, len(labels)):\n",
    "        flat = np.append(flat, labels[i])\n",
    "    return np.array(flat)\n",
    "\n",
    "def predict(traindat, labels, testdat, classifier):\n",
    "    # Flatten the data and labels; fitting classifier \n",
    "    classifier.fit(flatdat(traindat), labels)\n",
    "    # Making predictions\n",
    "    return classifier.predict(flatdat(testdat))\n",
    "\n",
    "# Predicts the variable for one participant, training on the others \n",
    "# note: run is the half of the movie we are PREDICTING on \n",
    "def predictVarLOO(varvec, pid, run, classifier = svm.SVC()):\n",
    "    train_pids = [i for i in range(n) if i != pid]\n",
    "    test_pids = [pid]\n",
    "\n",
    "    # Learning subject specific bases \n",
    "    srm = brainiak.funcalign.srm.SRM(n_iter = 10, features = 50)\n",
    "    if run == 1:\n",
    "        srm_data = movie_data2\n",
    "        model_data = movie_data1\n",
    "    else:\n",
    "        srm_data = movie_data1\n",
    "        model_data = movie_data2\n",
    "    \n",
    "    srm.fit(srm_data[train_pids])\n",
    "    w_test = [srm.transform_subject(srm_data[i]) for i in test_pids]\n",
    "\n",
    "    test_data = []\n",
    "    for i in range(len(test_pids)):\n",
    "        test_data.append(np.matmul(w_test[i].T, model_data[test_pids[i]]))\n",
    "\n",
    "    train_data = zscore(srm.transform(model_data[train_pids]))\n",
    "    test_data = zscore(test_data)\n",
    "\n",
    "    train_size = len(train_pids)\n",
    "    trainlabels = np.array([varvec for i in range(train_size)]).flatten()\n",
    "    testlabels = np.array([varvec for i in range(n - train_size)]).flatten()\n",
    "\n",
    "    return np.reshape(np.array(predict(train_data, trainlabels, test_data, classifier)), (1, -1))\n",
    "\n",
    "def predictVarLOOCV(var, x, run = 2, classifier = svm.SVC()):\n",
    "    cvscores = []\n",
    "    if run == 1:\n",
    "        varvec = expandFeature(var)[:nTRs1]\n",
    "    else:\n",
    "        varvec = expandFeature(var)[nTRs1:]\n",
    "    for pid in range(n): # leave one participant out for the cv \n",
    "        predictVarLOO(varvec, pid, run, classifier)\n",
    "        cvscores.append([np.mean(preds == varvec), \n",
    "                         np.corrcoef(preds, varvec)])\n",
    "    return np.array(cvscores) # list of accuracy and correlation coefficients for each subject"
   ]
  },
  {
   "cell_type": "code",
   "execution_count": 3,
   "metadata": {},
   "outputs": [
    {
     "data": {
      "text/plain": [
       "(17, 14, 1030)"
      ]
     },
     "execution_count": 3,
     "metadata": {},
     "output_type": "execute_result"
    }
   ],
   "source": [
    "# We'll work with feature matrices for predictions of run 2\n",
    "\n",
    "featmats = []\n",
    "for pid in range(n):\n",
    "    featmats.append(np.load(\"FeaturePredictions/featmat\" + str(pid) + \".npz\")[\"data\"])\n",
    "featmats = np.array(featmats)\n",
    "\n",
    "np.shape(featmats)"
   ]
  },
  {
   "cell_type": "code",
   "execution_count": 5,
   "metadata": {},
   "outputs": [],
   "source": [
    "#def predictVarLOO(varvec, pid, run, classifier = svm.SVC()):\n",
    "def predictNullLOO(var, pid, run = 2, classifier = svm.SVC()):\n",
    "    if run == 1:\n",
    "        varvec = expandFeature(var)[:nTRs1]\n",
    "    else:\n",
    "        varvec = expandFeature(var)[nTRs1:]\n",
    "    nullvec = np.random.choice(varvec, size = len(varvec), replace = False)\n",
    "    return predictVarLOO(nullvec, pid, run, classifier)\n",
    "        "
   ]
  },
  {
   "cell_type": "code",
   "execution_count": 6,
   "metadata": {},
   "outputs": [],
   "source": [
    "def getnullfeats(pid, run):\n",
    "    nullmat = predictNullLOO(features.columns[2], pid, run, svm.SVR())\n",
    "    for feat in features.columns[3:6]:\n",
    "        featvec = predictNullLOO(feat, pid, run, svm.SVR())\n",
    "        nullmat = np.append(nullmat, featvec, axis = 0)\n",
    "    for feat in features.columns[6:]:\n",
    "        print(feat, \"Feature matrix current shape: \", np.shape(nullmat))\n",
    "        featvec = predictNullLOO(feat, pid, run, svm.SVC())\n",
    "        nullmat = np.append(nullmat, featvec, axis = 0)\n",
    "    if run == 1:\n",
    "        return np.reshape(np.array(nullmat), (-1, nTRs1))\n",
    "    return np.reshape(np.array(nullmat), (-1, nTRs2))"
   ]
  },
  {
   "cell_type": "code",
   "execution_count": null,
   "metadata": {},
   "outputs": [
    {
     "name": "stdout",
     "output_type": "stream",
     "text": [
      "text Feature matrix current shape:  (4, 1030)\n",
      "speech Feature matrix current shape:  (5, 1030)\n",
      "music Feature matrix current shape:  (6, 1030)\n",
      "outdoors Feature matrix current shape:  (7, 1030)\n",
      "new_scene Feature matrix current shape:  (8, 1030)\n",
      "char_infocus Feature matrix current shape:  (9, 1030)\n",
      "char_present Feature matrix current shape:  (10, 1030)\n",
      "mainchar_infocus Feature matrix current shape:  (11, 1030)\n",
      "mainchar_present Feature matrix current shape:  (12, 1030)\n",
      "mainchar_speaking Feature matrix current shape:  (13, 1030)\n",
      "pid done 1250.979570865631\n",
      "text Feature matrix current shape:  (4, 1030)\n",
      "speech Feature matrix current shape:  (5, 1030)\n",
      "music Feature matrix current shape:  (6, 1030)\n",
      "outdoors Feature matrix current shape:  (7, 1030)\n",
      "new_scene Feature matrix current shape:  (8, 1030)\n",
      "char_infocus Feature matrix current shape:  (9, 1030)\n",
      "char_present Feature matrix current shape:  (10, 1030)\n",
      "mainchar_infocus Feature matrix current shape:  (11, 1030)\n",
      "mainchar_present Feature matrix current shape:  (12, 1030)\n",
      "mainchar_speaking Feature matrix current shape:  (13, 1030)\n",
      "pid done 1263.9880661964417\n",
      "text Feature matrix current shape:  (4, 1030)\n",
      "speech Feature matrix current shape:  (5, 1030)\n",
      "music Feature matrix current shape:  (6, 1030)\n",
      "outdoors Feature matrix current shape:  (7, 1030)\n",
      "new_scene Feature matrix current shape:  (8, 1030)\n",
      "char_infocus Feature matrix current shape:  (9, 1030)\n",
      "char_present Feature matrix current shape:  (10, 1030)\n",
      "mainchar_infocus Feature matrix current shape:  (11, 1030)\n",
      "mainchar_present Feature matrix current shape:  (12, 1030)\n",
      "mainchar_speaking Feature matrix current shape:  (13, 1030)\n"
     ]
    }
   ],
   "source": [
    "for pid in range(12, n):\n",
    "    start = time.time()\n",
    "    nullmat = getnullfeats(pid, 2)\n",
    "    np.savez(\"FeaturePredictions/nullmat\" + str(pid) + \".npz\", data = nullmat)\n",
    "    print(\"pid done\", time.time() - start)"
   ]
  },
  {
   "cell_type": "code",
   "execution_count": 4,
   "metadata": {},
   "outputs": [],
   "source": [
    "predresults = []\n",
    "nullresults = []\n",
    "for pid in range(n):\n",
    "    nullmat = np.load(\"FeaturePredictions/nullmat\" + str(pid) + \".npz\")[\"data\"]\n",
    "    for featnum in range(14):\n",
    "        #plt.figure()\n",
    "        feat = features.columns[featnum + 2]\n",
    "        featvec = expandFeature(feat)[nTRs1:]\n",
    "        #plt.scatter(range(nTRs2), featvec)\n",
    "        #plt.scatter(range(nTRs2), featmats[pid, featnum, :])\n",
    "        #plt.scatter(range(nTRs2), nullmat[featnum, :])\n",
    "        #plt.legend([\"Feature\", \"Prediction\", \"Null\"])\n",
    "        if (featnum < 4):\n",
    "            predcorr = np.round(np.corrcoef(featmats[pid, featnum, :], featvec)[0, 1], 3)\n",
    "            nullcorr = np.round(np.corrcoef(nullmat[featnum, :], featvec)[0, 1], 3)\n",
    "            #plt.title(feat + \": \" + str(predcorr) + \" \" + str(nullcorr))\n",
    "            predresults.append(predcorr)\n",
    "            nullresults.append(nullcorr)\n",
    "        else:\n",
    "            prederr = np.round(np.mean(featmats[pid, featnum, :] == featvec), 3)\n",
    "            nullerr = np.round(np.mean(nullmat[featnum, :] == featvec), 3)\n",
    "            #plt.title(feat + \": \" + str(prederr) + \" \" + str(nullerr))\n",
    "            predresults.append(prederr)\n",
    "            nullresults.append(nullerr)"
   ]
  },
  {
   "cell_type": "code",
   "execution_count": 5,
   "metadata": {},
   "outputs": [],
   "source": [
    "predresults = np.array(np.reshape(predresults, [n, 14]))\n",
    "nullresults = np.array(np.reshape(nullresults, [n, 14]))"
   ]
  },
  {
   "cell_type": "code",
   "execution_count": 47,
   "metadata": {},
   "outputs": [
    {
     "name": "stdout",
     "output_type": "stream",
     "text": [
      "arousal_mean 0.0003\n",
      "arousal_std 0.0003\n",
      "valence_mean 0.0003\n",
      "valence_std 0.0003\n",
      "text 0.0003\n",
      "speech 0.0003\n",
      "music 0.0004\n",
      "outdoors 0.0005\n",
      "new_scene 0.009\n",
      "char_infocus 0.0056\n",
      "char_present 0.0045\n",
      "mainchar_infocus 0.0003\n",
      "mainchar_present 0.0004\n",
      "mainchar_speaking 0.0003\n"
     ]
    },
    {
     "data": {
      "image/png": "[encoded data removed]",
      "text/plain": [
       "<Figure size 432x288 with 1 Axes>"
      ]
     },
     "metadata": {},
     "output_type": "display_data"
    },
    {
     "data": {
      "image/png": "[encoded data removed]",
      "text/plain": [
       "<Figure size 432x288 with 1 Axes>"
      ]
     },
     "metadata": {},
     "output_type": "display_data"
    },
    {
     "data": {
      "image/png": "[encoded data removed]",
      "text/plain": [
       "<Figure size 432x288 with 1 Axes>"
      ]
     },
     "metadata": {},
     "output_type": "display_data"
    },
    {
     "data": {
      "image/png": "[encoded data removed]",
      "text/plain": [
       "<Figure size 432x288 with 1 Axes>"
      ]
     },
     "metadata": {},
     "output_type": "display_data"
    },
    {
     "data": {
      "image/png": "[encoded data removed]",
      "text/plain": [
       "<Figure size 432x288 with 1 Axes>"
      ]
     },
     "metadata": {},
     "output_type": "display_data"
    },
    {
     "data": {
      "image/png": "[encoded data removed]",
      "text/plain": [
       "<Figure size 432x288 with 1 Axes>"
      ]
     },
     "metadata": {},
     "output_type": "display_data"
    },
    {
     "data": {
      "image/png": "[encoded data removed]",
      "text/plain": [
       "<Figure size 432x288 with 1 Axes>"
      ]
     },
     "metadata": {},
     "output_type": "display_data"
    },
    {
     "data": {
      "image/png": "[encoded data removed]",
      "text/plain": [
       "<Figure size 432x288 with 1 Axes>"
      ]
     },
     "metadata": {},
     "output_type": "display_data"
    },
    {
     "data": {
      "image/png": "[encoded data removed]",
      "text/plain": [
       "<Figure size 432x288 with 1 Axes>"
      ]
     },
     "metadata": {},
     "output_type": "display_data"
    },
    {
     "data": {
      "image/png": "[encoded data removed]",
      "text/plain": [
       "<Figure size 432x288 with 1 Axes>"
      ]
     },
     "metadata": {},
     "output_type": "display_data"
    },
    {
     "data": {
      "image/png": "[encoded data removed]",
      "text/plain": [
       "<Figure size 432x288 with 1 Axes>"
      ]
     },
     "metadata": {},
     "output_type": "display_data"
    },
    {
     "data": {
      "image/png": "[encoded data removed]",
      "text/plain": [
       "<Figure size 432x288 with 1 Axes>"
      ]
     },
     "metadata": {},
     "output_type": "display_data"
    },
    {
     "data": {
      "image/png": "[encoded data removed]",
      "text/plain": [
       "<Figure size 432x288 with 1 Axes>"
      ]
     },
     "metadata": {},
     "output_type": "display_data"
    },
    {
     "data": {
      "image/png": "[encoded data removed]",
      "text/plain": [
       "<Figure size 432x288 with 1 Axes>"
      ]
     },
     "metadata": {},
     "output_type": "display_data"
    }
   ],
   "source": [
    "featsigs = []\n",
    "for feat in range(14):\n",
    "    featsigs.append(round(stats.wilcoxon(predresults[:, feat], nullresults[:, feat])[1], 4))\n",
    "    print(features.columns[feat + 2], featsigs[feat])\n",
    "    plt.figure()\n",
    "    plt.hist(predresults[:, feat])\n",
    "    plt.hist(nullresults[:, feat])\n",
    "    plt.title(features.columns[feat + 2] + \": \" + str(featsigs[feat]))"
   ]
  },
  {
   "cell_type": "code",
   "execution_count": 44,
   "metadata": {},
   "outputs": [
    {
     "name": "stdout",
     "output_type": "stream",
     "text": [
      "arousal_mean 0.0\n",
      "arousal_std 0.0\n",
      "valence_mean 0.0\n",
      "valence_std 0.0\n",
      "text 0.0\n",
      "speech 0.0\n",
      "music 0.0\n",
      "outdoors 0.0\n",
      "new_scene 0.0083\n",
      "char_infocus 0.0024\n",
      "char_present 0.0009\n",
      "mainchar_infocus 0.0\n",
      "mainchar_present 0.0\n",
      "mainchar_speaking 0.0\n"
     ]
    }
   ],
   "source": [
    "# even though some violate normality assumptions, let's try and see what happens when we use a paired t-test\n",
    "pairedtest = []\n",
    "for feat in range(14):\n",
    "    pairedtest.append(round(stats.ttest_rel(predresults[:, feat], nullresults[:, feat])[1], 4))\n",
    "    print(features.columns[feat + 2], pairedtest[feat])"
   ]
  },
  {
   "cell_type": "code",
   "execution_count": 30,
   "metadata": {},
   "outputs": [
    {
     "name": "stdout",
     "output_type": "stream",
     "text": [
      "arousal_mean 0.0\n",
      "arousal_std 0.0\n",
      "valence_mean 0.0\n",
      "valence_std 0.0\n",
      "text 0.0\n",
      "speech 0.0\n",
      "music 0.0\n",
      "outdoors 0.0\n",
      "new_scene 0.005\n",
      "char_infocus 0.0011\n",
      "char_present 0.0003\n",
      "mainchar_infocus 0.0\n",
      "mainchar_present 0.0\n",
      "mainchar_speaking 0.0\n"
     ]
    }
   ],
   "source": [
    "# independent\n",
    "# even though some violate normality assumptions, let's try and see what happens when we use a paired t-test\n",
    "indtest = []\n",
    "for feat in range(14):\n",
    "    indtest.append(round(stats.ttest_ind(predresults[:, feat], nullresults[:, feat])[1], 4))\n",
    "    print(features.columns[feat + 2], indtest[feat])"
   ]
  },
  {
   "cell_type": "code",
   "execution_count": null,
   "metadata": {},
   "outputs": [],
   "source": []
  }
 ],
 "metadata": {
  "kernelspec": {
   "display_name": "Python 3",
   "language": "python",
   "name": "python3"
  },
  "language_info": {
   "codemirror_mode": {
    "name": "ipython",
    "version": 3
   },
   "file_extension": ".py",
   "mimetype": "text/x-python",
   "name": "python",
   "nbconvert_exporter": "python",
   "pygments_lexer": "ipython3",
   "version": "3.6.7"
  }
 },
 "nbformat": 4,
 "nbformat_minor": 2
}
